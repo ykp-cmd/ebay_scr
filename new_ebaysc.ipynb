{
 "cells": [
  {
   "cell_type": "code",
   "execution_count": 62,
   "metadata": {},
   "outputs": [
    {
     "name": "stdout",
     "output_type": "stream",
     "text": [
      "[<tr data-feedback-id=\"1638468213026\"><td><div class=\"card__feedback-container\"><div class=\"card__rating\"><svg aria-label=\"Negative feedback rating\" class=\"imagePosition icon icon--feedback-negative\" data-test-id=\"fdbk-rating-13\" data-test-type=\"negative\" height=\"24\" role=\"img\" viewbox=\"0 0 22 22\" width=\"24\"><path d=\"M10.969 0C4.911 0 0 4.911 0 10.969s4.911 10.969 10.969 10.969 10.969-4.91 10.969-10.969C21.938 4.912 17.027 0 10.969 0zm4.113 12.339H6.854a1.37 1.37 0 1 1 0-2.74h8.227a1.37 1.37 0 1 1 0 2.74h.001z\" fill=\"#E0103A\"></path></svg></div><div class=\"card__feedback\"><div class=\"card__comment\"><span aria-label=\"Such a shame, the pack contained 6 swallows, but 5 were broken.\" data-test-id=\"fdbk-comment-13\">Such a shame, the pack contained 6 swallows, but 5 were broken.</span></div><div class=\"card__item\"><span data-test-id=\"fdbk-item-13\">1PC Swallow Mirror Non-toxic Peel and Stick Creative Wall Stickers for Bedroom (#384870311555)</span></div></div></div></td><td><div class=\"card__from\"><span aria-label=\"Feedback left by buyer.\" data-test-id=\"fdbk-context-13\">2***w</span><span class=\"no-wrap\"> (<span data-test-id=\"fdbk-rating-score-13\">340</span><span class=\"gspr icst3 starIcon\" data-test-id=\"fdbk-rating-icon-13\"></span>)</span></div><div class=\"card__price\"><span data-test-id=\"fdbk-price-13\">GBP 5.62</span></div></td><td><div><span aria-label=\"Past year\" data-test-id=\"fdbk-time-13\">Past year</span></div><div class=\"card__links\"></div></td></tr>]\n"
     ]
    }
   ],
   "source": [
    "from bs4 import BeautifulSoup\n",
    "\n",
    "html = '''\n",
    "<tr data-feedback-id=\"1638468213026\"><td><div class=\"card__feedback-container\"><div class=\"card__rating\"><svg class=\"imagePosition icon icon--feedback-negative\" data-test-id=\"fdbk-rating-13\" data-test-type=\"negative\" viewBox=\"0 0 22 22\" height=\"24\" width=\"24\" aria-label=\"Negative feedback rating\" role=\"img\"><path fill=\"#E0103A\" d=\"M10.969 0C4.911 0 0 4.911 0 10.969s4.911 10.969 10.969 10.969 10.969-4.91 10.969-10.969C21.938 4.912 17.027 0 10.969 0zm4.113 12.339H6.854a1.37 1.37 0 1 1 0-2.74h8.227a1.37 1.37 0 1 1 0 2.74h.001z\"></path></svg></div><div class=\"card__feedback\"><div class=\"card__comment\"><span data-test-id=\"fdbk-comment-13\" aria-label=\"Such a shame, the pack contained 6 swallows, but 5 were broken.\">Such a shame, the pack contained 6 swallows, but 5 were broken.</span></div><div class=\"card__item\"><span data-test-id=\"fdbk-item-13\">1PC Swallow Mirror Non-toxic Peel and Stick Creative Wall Stickers for Bedroom (#384870311555)</span></div></div></div></td><td><div class=\"card__from\"><span data-test-id=\"fdbk-context-13\" aria-label=\"Feedback left by buyer.\">2***w</span><span class=\"no-wrap\">&nbsp;(<span data-test-id=\"fdbk-rating-score-13\">340</span><span class=\"gspr icst3 starIcon\" data-test-id=\"fdbk-rating-icon-13\"></span>)</span></div><div class=\"card__price\"><span data-test-id=\"fdbk-price-13\">GBP 5.62</span></div></td><td><div><span data-test-id=\"fdbk-time-13\" aria-label=\"Past year\">Past year</span></div><div class=\"card__links\"></div></td></tr>\n",
    "'''\n",
    "soup = BeautifulSoup(html)\n",
    "\n",
    "print(soup.select('tr:has(span:-soup-contains(\"Mirror\",\"Tray\",\"Ceramic\"))'))\n"
   ]
  },
  {
   "cell_type": "code",
   "execution_count": 34,
   "metadata": {},
   "outputs": [
    {
     "data": {
      "text/plain": [
       "['1PC Swallow Mirror Non-toxic Peel and Stick Creative Wall Stickers for Bedroom (#384870311555)']"
      ]
     },
     "execution_count": 34,
     "metadata": {},
     "output_type": "execute_result"
    }
   ],
   "source": [
    "matches = ['mirror','tray','ceramic']\n",
    "\n",
    "[e.get_text() for e in soup.select('[data-feedback-id] .card__item') if any([x in e.text.lower() for x in matches])]"
   ]
  },
  {
   "cell_type": "code",
   "execution_count": 72,
   "metadata": {},
   "outputs": [
    {
     "name": "stdout",
     "output_type": "stream",
     "text": [
      "1PC Swallow Mirror Non-toxic Peel and Stick Creative Wall Stickers for Bedroom (#384870311555)\n"
     ]
    }
   ],
   "source": [
    "for e in soup.select('[data-feedback-id] .card__item'):\n",
    "    if any([x in e.text.lower() for x in matches]):\n",
    "        print(e.get_text())"
   ]
  },
  {
   "cell_type": "code",
   "execution_count": 73,
   "metadata": {},
   "outputs": [
    {
     "data": {
      "text/plain": [
       "'Such a shame, the pack contained 6 swallows, but 5 were broken.'"
      ]
     },
     "execution_count": 73,
     "metadata": {},
     "output_type": "execute_result"
    }
   ],
   "source": [
    "e.previous_element"
   ]
  },
  {
   "cell_type": "code",
   "execution_count": 86,
   "metadata": {},
   "outputs": [
    {
     "name": "stdout",
     "output_type": "stream",
     "text": [
      "1PC Swallow Mirror Non-toxic Peel and Stick Creative Wall Stickers for Bedroom (#384870311555) : Such a shame, the pack contained 6 swallows, but 5 were broken.\n"
     ]
    }
   ],
   "source": [
    "s=e.get_text()\n",
    "t=e.previous_element\n",
    "print(s + \" : \" + t)"
   ]
  },
  {
   "cell_type": "code",
   "execution_count": null,
   "metadata": {},
   "outputs": [],
   "source": []
  }
 ],
 "metadata": {
  "kernelspec": {
   "display_name": "Python 3",
   "language": "python",
   "name": "python3"
  },
  "language_info": {
   "codemirror_mode": {
    "name": "ipython",
    "version": 3
   },
   "file_extension": ".py",
   "mimetype": "text/x-python",
   "name": "python",
   "nbconvert_exporter": "python",
   "pygments_lexer": "ipython3",
   "version": "3.11.0"
  },
  "orig_nbformat": 4,
  "vscode": {
   "interpreter": {
    "hash": "1a1af0ee75eeea9e2e1ee996c87e7a2b11a0bebd85af04bb136d915cefc0abce"
   }
  }
 },
 "nbformat": 4,
 "nbformat_minor": 2
}
